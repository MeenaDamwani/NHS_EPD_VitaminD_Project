{
 "cells": [
  {
   "cell_type": "markdown",
   "metadata": {
    "id": "LCIlXU3pi-RL"
   },
   "source": [
    "# Single Month Dataset\n"
   ]
  },
  {
   "cell_type": "code",
   "execution_count": 9,
   "metadata": {
    "executionInfo": {
     "elapsed": 727,
     "status": "ok",
     "timestamp": 1738661710714,
     "user": {
      "displayName": "Meena Damwani",
      "userId": "05389956497684419945"
     },
     "user_tz": 0
    },
    "id": "Qr-QEXQs_Vv_"
   },
   "outputs": [],
   "source": [
    "import requests\n",
    "import pandas as pd\n",
    "import re\n",
    "import requests\n",
    "import warnings\n",
    "import urllib.parse\n",
    "\n",
    "warnings.simplefilter(\"ignore\", category=UserWarning)"
   ]
  },
  {
   "cell_type": "code",
   "execution_count": 10,
   "metadata": {
    "executionInfo": {
     "elapsed": 6,
     "status": "ok",
     "timestamp": 1738661713918,
     "user": {
      "displayName": "Meena Damwani",
      "userId": "05389956497684419945"
     },
     "user_tz": 0
    },
    "id": "Rm7Mf4b7_bEc"
   },
   "outputs": [],
   "source": [
    "base_endpoint = 'https://opendata.nhsbsa.net/api/3/action/'\n",
    "package_list_method = 'package_list'     # List of data-sets in the portal\n",
    "package_show_method = 'package_show?id=' # List all resources of a data-set\n",
    "action_method = 'datastore_search_sql?'  # SQL action method"
   ]
  },
  {
   "cell_type": "code",
   "execution_count": 11,
   "metadata": {
    "executionInfo": {
     "elapsed": 803,
     "status": "ok",
     "timestamp": 1738661717352,
     "user": {
      "displayName": "Meena Damwani",
      "userId": "05389956497684419945"
     },
     "user_tz": 0
    },
    "id": "xJq3a41X_nNc"
   },
   "outputs": [],
   "source": [
    "datasets_response = requests.get(base_endpoint +  package_list_method).json()"
   ]
  },
  {
   "cell_type": "code",
   "execution_count": 12,
   "metadata": {
    "colab": {
     "base_uri": "https://localhost:8080/"
    },
    "executionInfo": {
     "elapsed": 13,
     "status": "ok",
     "timestamp": 1738661718346,
     "user": {
      "displayName": "Meena Damwani",
      "userId": "05389956497684419945"
     },
     "user_tz": 0
    },
    "id": "dUyVdAn2_q_j",
    "outputId": "25885de8-fe8d-4c31-fb58-f9b9e0a1646f"
   },
   "outputs": [],
   "source": [
    "dataset_id = \"english-prescribing-data-epd\""
   ]
  },
  {
   "cell_type": "code",
   "execution_count": 13,
   "metadata": {
    "executionInfo": {
     "elapsed": 237,
     "status": "ok",
     "timestamp": 1738661726939,
     "user": {
      "displayName": "Meena Damwani",
      "userId": "05389956497684419945"
     },
     "user_tz": 0
    },
    "id": "PX9ffMjt_vlT"
   },
   "outputs": [],
   "source": [
    "resource_name = 'EPD_202411' # For EPD resources are named EPD_YYYYMM - Nov-24"
   ]
  },
  {
   "cell_type": "code",
   "execution_count": 14,
   "metadata": {
    "executionInfo": {
     "elapsed": 874,
     "status": "ok",
     "timestamp": 1738661729488,
     "user": {
      "displayName": "Meena Damwani",
      "userId": "05389956497684419945"
     },
     "user_tz": 0
    },
    "id": "rmvpRUCeF7FU"
   },
   "outputs": [],
   "source": [
    "#Read practice codes from CSV file\n",
    "# Metformin  - 0601022B0\n",
    "# Exenatide - 0601023Y0\n",
    "# Dapagliflozin - 0601023AG\n",
    "practice_csv_file = \"csv_files/practice_codes.csv\"  # Change to your actual file name\n",
    "df_practice = pd.read_csv(practice_csv_file,header=None, names=['PRACTICE_CODE'])\n",
    "df_practice.count()\n",
    "# Ensure the column name matches your CSV file\n",
    "practice_code_list = df_practice['PRACTICE_CODE'].dropna().astype(str).unique().tolist()\n",
    "#Convert the list into a string of quoted values for SQL query\n",
    "practice_code_str = \", \".join([f\"'{code}'\" for code in practice_code_list])"
   ]
  },
  {
   "cell_type": "code",
   "execution_count": 15,
   "metadata": {
    "executionInfo": {
     "elapsed": 532,
     "status": "ok",
     "timestamp": 1738661769948,
     "user": {
      "displayName": "Meena Damwani",
      "userId": "05389956497684419945"
     },
     "user_tz": 0
    },
    "id": "Wj2biC4SJiTZ"
   },
   "outputs": [],
   "source": [
    "#Read bnf checmical substance codes from CSV file\n",
    "bnf_sub_code_csv_file = \"csv_files/bnf_chemical_sub_code.csv\"  # Change to your actual file name\n",
    "df_bnf_substance = pd.read_csv(bnf_sub_code_csv_file,header=None, names=['BNF_CHEMICAL_SUBSTANCE'])\n",
    "df_bnf_substance.count()\n",
    "# Ensure the column name matches your CSV file\n",
    "bnf_sub_code_list = df_bnf_substance['BNF_CHEMICAL_SUBSTANCE'].dropna().astype(str).unique().tolist()\n",
    "#Convert the list into a string of quoted values for SQL query\n",
    "bnf_chemical_substance_str = \", \".join([f\"'{code}'\" for code in bnf_sub_code_list])"
   ]
  },
  {
   "cell_type": "code",
   "execution_count": 16,
   "metadata": {
    "executionInfo": {
     "elapsed": 239,
     "status": "ok",
     "timestamp": 1738661771837,
     "user": {
      "displayName": "Meena Damwani",
      "userId": "05389956497684419945"
     },
     "user_tz": 0
    },
    "id": "CKfPKifmOmga"
   },
   "outputs": [],
   "source": [
    "single_month_query = \"SELECT * \" \\\n",
    "                     f\"FROM `{resource_name}` \" \\\n",
    "                     f\"WHERE practice_code in ({practice_code_str}) \" \\\n",
    "                     f\"AND bnf_chemical_substance in ({bnf_chemical_substance_str})\""
   ]
  },
  {
   "cell_type": "code",
   "execution_count": 19,
   "metadata": {
    "colab": {
     "base_uri": "https://localhost:8080/",
     "height": 71
    },
    "executionInfo": {
     "elapsed": 288,
     "status": "ok",
     "timestamp": 1738661775454,
     "user": {
      "displayName": "Meena Damwani",
      "userId": "05389956497684419945"
     },
     "user_tz": 0
    },
    "id": "02TEaRPbFutT",
    "outputId": "8bb0220e-dd19-41c6-def2-4ad9de2823ef"
   },
   "outputs": [
    {
     "data": {
      "text/plain": [
       "\"SELECT * FROM `EPD_202411` WHERE practice_code in ('F84031', 'F84087', 'F84030', 'Y03023', 'F84055', 'F84062', 'F84079', 'F84114', 'F84122', 'F84081', 'F84718', 'F84083', 'F84118', 'F84698', 'F84747', 'F84714', 'F84656', 'F84012', 'F84051', 'F84710', 'F84016', 'F84025', 'F84054', 'F84123', 'F84034', 'F84044', 'F84696', 'F84039', 'F84733', 'F84647', 'F84731') AND bnf_chemical_substance in ('0601022B0', '0601023Y0', '0601023AG')\""
      ]
     },
     "execution_count": 19,
     "metadata": {},
     "output_type": "execute_result"
    }
   ],
   "source": [
    "single_month_query"
   ]
  },
  {
   "cell_type": "code",
   "execution_count": 17,
   "metadata": {
    "executionInfo": {
     "elapsed": 269,
     "status": "ok",
     "timestamp": 1738661780544,
     "user": {
      "displayName": "Meena Damwani",
      "userId": "05389956497684419945"
     },
     "user_tz": 0
    },
    "id": "88kNCgCUAFQ_"
   },
   "outputs": [],
   "source": [
    "single_month_api_call = f\"{base_endpoint}\" \\\n",
    "                        f\"{action_method}\" \\\n",
    "                        \"resource_id=\" \\\n",
    "                        f\"{resource_name}\" \\\n",
    "                        \"&\" \\\n",
    "                        \"sql=\" \\\n",
    "                        f\"{urllib.parse.quote(single_month_query)}\" # Encode spaces in the url"
   ]
  },
  {
   "cell_type": "code",
   "execution_count": 18,
   "metadata": {
    "executionInfo": {
     "elapsed": 9301,
     "status": "ok",
     "timestamp": 1738661791533,
     "user": {
      "displayName": "Meena Damwani",
      "userId": "05389956497684419945"
     },
     "user_tz": 0
    },
    "id": "cDbpbI2jAJxA"
   },
   "outputs": [],
   "source": [
    "single_month_response = requests.get(single_month_api_call).json()"
   ]
  },
  {
   "cell_type": "code",
   "execution_count": 20,
   "metadata": {
    "executionInfo": {
     "elapsed": 271,
     "status": "ok",
     "timestamp": 1738661799929,
     "user": {
      "displayName": "Meena Damwani",
      "userId": "05389956497684419945"
     },
     "user_tz": 0
    },
    "id": "JB6UEovqAUZp"
   },
   "outputs": [],
   "source": [
    "single_month_df  = pd.json_normalize(single_month_response['result']['result']['records'])"
   ]
  },
  {
   "cell_type": "code",
   "execution_count": 16,
   "metadata": {
    "colab": {
     "base_uri": "https://localhost:8080/",
     "height": 899
    },
    "executionInfo": {
     "elapsed": 222,
     "status": "ok",
     "timestamp": 1738661802049,
     "user": {
      "displayName": "Meena Damwani",
      "userId": "05389956497684419945"
     },
     "user_tz": 0
    },
    "id": "CHvX0SxwBZlm",
    "outputId": "3ff1c7fc-d387-401f-b910-775f53217360"
   },
   "outputs": [
    {
     "data": {
      "text/plain": [
       "BNF_CODE                        1216\n",
       "TOTAL_QUANTITY                  1216\n",
       "POSTCODE                        1216\n",
       "YEAR_MONTH                      1216\n",
       "UNIDENTIFIED                    1216\n",
       "PRACTICE_NAME                   1216\n",
       "ICB_NAME                        1216\n",
       "BNF_CHAPTER_PLUS_CODE           1216\n",
       "ICB_CODE                        1216\n",
       "ACTUAL_COST                     1216\n",
       "QUANTITY                        1216\n",
       "REGIONAL_OFFICE_CODE            1216\n",
       "ITEMS                           1216\n",
       "ADDRESS_4                       1216\n",
       "ADDRESS_1                       1216\n",
       "ADDRESS_2                       1216\n",
       "ADDRESS_3                       1216\n",
       "BNF_CHEMICAL_SUBSTANCE          1216\n",
       "ADQUSAGE                        1216\n",
       "PCO_CODE                        1216\n",
       "REGIONAL_OFFICE_NAME            1216\n",
       "NIC                             1216\n",
       "CHEMICAL_SUBSTANCE_BNF_DESCR    1216\n",
       "PRACTICE_CODE                   1216\n",
       "PCO_NAME                        1216\n",
       "BNF_DESCRIPTION                 1216\n",
       "dtype: int64"
      ]
     },
     "execution_count": 24,
     "metadata": {},
     "output_type": "execute_result"
    }
   ],
   "source": [
    "single_month_df.count()"
   ]
  },
  {
   "cell_type": "code",
   "execution_count": 21,
   "metadata": {
    "executionInfo": {
     "elapsed": 195,
     "status": "ok",
     "timestamp": 1738661808327,
     "user": {
      "displayName": "Meena Damwani",
      "userId": "05389956497684419945"
     },
     "user_tz": 0
    },
    "id": "c1hL5cCePJoB"
   },
   "outputs": [],
   "source": [
    "single_month_df.to_csv('download/single_month.csv')"
   ]
  },
  {
   "cell_type": "markdown",
   "metadata": {
    "id": "7Yivi_F0K6XU"
   },
   "source": [
    "# Five Years Data"
   ]
  },
  {
   "cell_type": "code",
   "execution_count": 22,
   "metadata": {
    "executionInfo": {
     "elapsed": 6823,
     "status": "ok",
     "timestamp": 1738622066704,
     "user": {
      "displayName": "Meena Damwani",
      "userId": "05389956497684419945"
     },
     "user_tz": 0
    },
    "id": "JEp5chV7LDWz"
   },
   "outputs": [],
   "source": [
    "metadata_repsonse  = requests.get(f\"{base_endpoint}\" \\\n",
    "                                  f\"{package_show_method}\" \\\n",
    "                                  f\"{dataset_id}\").json()"
   ]
  },
  {
   "cell_type": "code",
   "execution_count": 25,
   "metadata": {
    "executionInfo": {
     "elapsed": 249,
     "status": "ok",
     "timestamp": 1738622069922,
     "user": {
      "displayName": "Meena Damwani",
      "userId": "05389956497684419945"
     },
     "user_tz": 0
    },
    "id": "Qr98KZd0LZib"
   },
   "outputs": [],
   "source": [
    "resources_table  = pd.json_normalize(metadata_repsonse['result']['resources'])"
   ]
  },
  {
   "cell_type": "code",
   "execution_count": 26,
   "metadata": {
    "executionInfo": {
     "elapsed": 255,
     "status": "ok",
     "timestamp": 1738622073527,
     "user": {
      "displayName": "Meena Damwani",
      "userId": "05389956497684419945"
     },
     "user_tz": 0
    },
    "id": "xwPQxELZ4hlm"
   },
   "outputs": [],
   "source": [
    "import datetime\n",
    "# Define dynamic start and end years (you can set any range)\n",
    "start_year = 2020  # Change as needed\n",
    "end_year = 2025    # Change as needed\n",
    "\n",
    "# Ensure start year is not greater than end year\n",
    "if start_year > end_year:\n",
    "    raise ValueError(\"Start year must be less than or equal to the end year.\")\n",
    "\n",
    "# Convert start and end years into a regex pattern\n",
    "year_pattern = f\"({'|'.join(str(year) for year in range(start_year, end_year + 1))})\"\n",
    "\n",
    "# Filter resources dynamically based on the year range\n",
    "resource_name_list = resources_table[resources_table['name'].str.contains(year_pattern, regex=True)]['name']\n"
   ]
  },
  {
   "cell_type": "code",
   "execution_count": 29,
   "metadata": {
    "colab": {
     "base_uri": "https://localhost:8080/",
     "height": 1000
    },
    "executionInfo": {
     "elapsed": 243,
     "status": "ok",
     "timestamp": 1738622079172,
     "user": {
      "displayName": "Meena Damwani",
      "userId": "05389956497684419945"
     },
     "user_tz": 0
    },
    "id": "Y0MNFftHLnRq",
    "outputId": "098ad981-dddb-4150-c2c7-9542d55940a0"
   },
   "outputs": [
    {
     "data": {
      "text/plain": [
       "72     EPD_202001\n",
       "73     EPD_202002\n",
       "74     EPD_202003\n",
       "75     EPD_202004\n",
       "76     EPD_202005\n",
       "77     EPD_202006\n",
       "78     EPD_202007\n",
       "79     EPD_202008\n",
       "80     EPD_202009\n",
       "81     EPD_202010\n",
       "82     EPD_202011\n",
       "83     EPD_202012\n",
       "84     EPD_202101\n",
       "85     EPD_202102\n",
       "86     EPD_202103\n",
       "87     EPD_202104\n",
       "88     EPD_202105\n",
       "89     EPD_202106\n",
       "90     EPD_202107\n",
       "91     EPD_202108\n",
       "92     EPD_202109\n",
       "93     EPD_202110\n",
       "94     EPD_202111\n",
       "95     EPD_202112\n",
       "96     EPD_202201\n",
       "97     EPD_202202\n",
       "98     EPD_202203\n",
       "99     EPD_202204\n",
       "100    EPD_202205\n",
       "101    EPD_202206\n",
       "102    EPD_202207\n",
       "103    EPD_202208\n",
       "104    EPD_202209\n",
       "105    EPD_202210\n",
       "106    EPD_202211\n",
       "107    EPD_202212\n",
       "108    EPD_202301\n",
       "109    EPD_202302\n",
       "110    EPD_202303\n",
       "111    EPD_202304\n",
       "112    EPD_202305\n",
       "113    EPD_202306\n",
       "114    EPD_202307\n",
       "115    EPD_202308\n",
       "116    EPD_202309\n",
       "117    EPD_202310\n",
       "118    EPD_202311\n",
       "119    EPD_202312\n",
       "120    EPD_202401\n",
       "121    EPD_202402\n",
       "122    EPD_202403\n",
       "123    EPD_202404\n",
       "124    EPD_202405\n",
       "125    EPD_202406\n",
       "126    EPD_202407\n",
       "127    EPD_202408\n",
       "128    EPD_202409\n",
       "129    EPD_202410\n",
       "130    EPD_202411\n",
       "Name: name, dtype: object"
      ]
     },
     "execution_count": 29,
     "metadata": {},
     "output_type": "execute_result"
    }
   ],
   "source": [
    "resource_name_list"
   ]
  },
  {
   "cell_type": "code",
   "execution_count": 30,
   "metadata": {
    "colab": {
     "base_uri": "https://localhost:8080/"
    },
    "executionInfo": {
     "elapsed": 126801,
     "status": "ok",
     "timestamp": 1738622680953,
     "user": {
      "displayName": "Meena Damwani",
      "userId": "05389956497684419945"
     },
     "user_tz": 0
    },
    "id": "beIQ2AiLL_MD",
    "outputId": "191fa7d2-e8a8-428b-e386-cf6eab378f96"
   },
   "outputs": [
    {
     "name": "stdout",
     "output_type": "stream",
     "text": [
      "Fetching data for EPD_202001...\n",
      "✔ 998 records fetched for EPD_202001.\n",
      "Fetching data for EPD_202002...\n",
      "✔ 991 records fetched for EPD_202002.\n",
      "Fetching data for EPD_202003...\n",
      "✔ 1003 records fetched for EPD_202003.\n",
      "Fetching data for EPD_202004...\n",
      "✔ 964 records fetched for EPD_202004.\n",
      "Fetching data for EPD_202005...\n",
      "✔ 948 records fetched for EPD_202005.\n",
      "Fetching data for EPD_202006...\n",
      "✔ 966 records fetched for EPD_202006.\n",
      "Fetching data for EPD_202007...\n",
      "✔ 1016 records fetched for EPD_202007.\n",
      "Fetching data for EPD_202008...\n",
      "✔ 955 records fetched for EPD_202008.\n",
      "Fetching data for EPD_202009...\n",
      "✔ 1003 records fetched for EPD_202009.\n",
      "Fetching data for EPD_202010...\n",
      "✔ 1010 records fetched for EPD_202010.\n",
      "Fetching data for EPD_202011...\n",
      "✔ 989 records fetched for EPD_202011.\n",
      "Fetching data for EPD_202012...\n",
      "✔ 1001 records fetched for EPD_202012.\n",
      "Fetching data for EPD_202101...\n",
      "✔ 1006 records fetched for EPD_202101.\n",
      "Fetching data for EPD_202102...\n",
      "✔ 983 records fetched for EPD_202102.\n",
      "Fetching data for EPD_202103...\n",
      "✔ 990 records fetched for EPD_202103.\n",
      "Fetching data for EPD_202104...\n",
      "✔ 1015 records fetched for EPD_202104.\n",
      "Fetching data for EPD_202105...\n",
      "✔ 1008 records fetched for EPD_202105.\n",
      "Fetching data for EPD_202106...\n",
      "✔ 1019 records fetched for EPD_202106.\n",
      "Fetching data for EPD_202107...\n",
      "✔ 1021 records fetched for EPD_202107.\n",
      "Fetching data for EPD_202108...\n",
      "✔ 1055 records fetched for EPD_202108.\n",
      "Fetching data for EPD_202109...\n",
      "✔ 1100 records fetched for EPD_202109.\n",
      "Fetching data for EPD_202110...\n",
      "✔ 1113 records fetched for EPD_202110.\n",
      "Fetching data for EPD_202111...\n",
      "✔ 1163 records fetched for EPD_202111.\n",
      "Fetching data for EPD_202112...\n",
      "✔ 1127 records fetched for EPD_202112.\n",
      "Fetching data for EPD_202201...\n",
      "✔ 1150 records fetched for EPD_202201.\n",
      "Fetching data for EPD_202202...\n",
      "✔ 1150 records fetched for EPD_202202.\n",
      "Fetching data for EPD_202203...\n",
      "✔ 1183 records fetched for EPD_202203.\n",
      "Fetching data for EPD_202204...\n",
      "✔ 1164 records fetched for EPD_202204.\n",
      "Fetching data for EPD_202205...\n",
      "✔ 1201 records fetched for EPD_202205.\n",
      "Fetching data for EPD_202206...\n",
      "✔ 1230 records fetched for EPD_202206.\n",
      "Fetching data for EPD_202207...\n",
      "✔ 1205 records fetched for EPD_202207.\n",
      "Fetching data for EPD_202208...\n",
      "✔ 1226 records fetched for EPD_202208.\n",
      "Fetching data for EPD_202209...\n",
      "✔ 1244 records fetched for EPD_202209.\n",
      "Fetching data for EPD_202210...\n",
      "✔ 1245 records fetched for EPD_202210.\n",
      "Fetching data for EPD_202211...\n",
      "✔ 1231 records fetched for EPD_202211.\n",
      "Fetching data for EPD_202212...\n",
      "✔ 1236 records fetched for EPD_202212.\n",
      "Fetching data for EPD_202301...\n",
      "✔ 1245 records fetched for EPD_202301.\n",
      "Fetching data for EPD_202302...\n",
      "✔ 1217 records fetched for EPD_202302.\n",
      "Fetching data for EPD_202303...\n",
      "✔ 1286 records fetched for EPD_202303.\n",
      "Fetching data for EPD_202304...\n",
      "✔ 1261 records fetched for EPD_202304.\n",
      "Fetching data for EPD_202305...\n",
      "✔ 1279 records fetched for EPD_202305.\n",
      "Fetching data for EPD_202306...\n",
      "✔ 1301 records fetched for EPD_202306.\n",
      "Fetching data for EPD_202307...\n",
      "✔ 1290 records fetched for EPD_202307.\n",
      "Fetching data for EPD_202308...\n",
      "✔ 1285 records fetched for EPD_202308.\n",
      "Fetching data for EPD_202309...\n",
      "✔ 1303 records fetched for EPD_202309.\n",
      "Fetching data for EPD_202310...\n",
      "✔ 1302 records fetched for EPD_202310.\n",
      "Fetching data for EPD_202311...\n",
      "✔ 1291 records fetched for EPD_202311.\n",
      "Fetching data for EPD_202312...\n",
      "✔ 1257 records fetched for EPD_202312.\n",
      "Fetching data for EPD_202401...\n",
      "✔ 1277 records fetched for EPD_202401.\n",
      "Fetching data for EPD_202402...\n",
      "✔ 1259 records fetched for EPD_202402.\n",
      "Fetching data for EPD_202403...\n",
      "✔ 1242 records fetched for EPD_202403.\n",
      "Fetching data for EPD_202404...\n",
      "✔ 1247 records fetched for EPD_202404.\n",
      "Fetching data for EPD_202405...\n",
      "✔ 1251 records fetched for EPD_202405.\n",
      "Fetching data for EPD_202406...\n",
      "✔ 1222 records fetched for EPD_202406.\n",
      "Fetching data for EPD_202407...\n",
      "✔ 1202 records fetched for EPD_202407.\n",
      "Fetching data for EPD_202408...\n",
      "✔ 1218 records fetched for EPD_202408.\n",
      "Fetching data for EPD_202409...\n",
      "✔ 1205 records fetched for EPD_202409.\n",
      "Fetching data for EPD_202410...\n",
      "✔ 1207 records fetched for EPD_202410.\n",
      "Fetching data for EPD_202411...\n",
      "✔ 1216 records fetched for EPD_202411.\n",
      "✅ Data retrieval complete. Saved as epd_filtered_data.csv\n"
     ]
    }
   ],
   "source": [
    "import time\n",
    "import json\n",
    "for month in resource_name_list:\n",
    "\n",
    "    # Build temporary SQL query\n",
    "    tmp_query = \"SELECT * \" \\\n",
    "                     f\"FROM `{resource_name}` \" \\\n",
    "                     f\"WHERE practice_code in ({practice_code_str}) \" \\\n",
    "                     f\"AND bnf_chemical_substance in ({bnf_chemical_substance_str})\"\n",
    "\n",
    "    # Build temporary API call\n",
    "    tmp_api_call  = f\"{base_endpoint}\" \\\n",
    "                    f\"{action_method}\" \\\n",
    "                    \"resource_id=\" \\\n",
    "                    f\"{month}\" \\\n",
    "                    \"&\" \\\n",
    "                    \"sql=\" \\\n",
    "                    f\"{urllib.parse.quote(tmp_query)}\" # Encode spaces in the url\n",
    "    # Data storage\n",
    "    all_data = []\n",
    "    # # Grab the response JSON as a temporary list\n",
    "    # tmp_response = requests.get(tmp_api_call).json()\n",
    "    # Data storage\n",
    "all_data = []\n",
    "\n",
    "# Iterate over each month in resource_name_list\n",
    "for month in resource_name_list:\n",
    "    print(f\"Fetching data for {month}...\")\n",
    "\n",
    "    # Build SQL query\n",
    "    tmp_query = f\"\"\"\n",
    "        SELECT *\n",
    "        FROM `{month}`\n",
    "        WHERE practice_code IN ({practice_code_str})\n",
    "        AND bnf_chemical_substance IN ({bnf_chemical_substance_str})\n",
    "    \"\"\"\n",
    "\n",
    "    # Build API call\n",
    "    tmp_api_call = f\"{base_endpoint}{action_method}resource_id={month}&sql={urllib.parse.quote(tmp_query)}\"\n",
    "\n",
    "    try:\n",
    "        # Request data\n",
    "        tmp_response = requests.get(tmp_api_call, timeout=60)\n",
    "\n",
    "        if tmp_response.status_code == 200:\n",
    "            try:\n",
    "                response_json = tmp_response.json()  # Parse JSON response\n",
    "\n",
    "                # **Handle nested \"result\" structure**\n",
    "                if isinstance(response_json, dict) and \"result\" in response_json:\n",
    "                    nested_result = response_json.get(\"result\", {})\n",
    "\n",
    "                    if isinstance(nested_result, dict) and \"result\" in nested_result:\n",
    "                        final_result = nested_result.get(\"result\", {})\n",
    "\n",
    "                        if isinstance(final_result, dict) and \"records\" in final_result:\n",
    "                            records = final_result.get(\"records\", [])\n",
    "\n",
    "                            if records:\n",
    "                                all_data.extend(records)  # Append data\n",
    "                                print(f\"✔ {len(records)} records fetched for {month}.\")\n",
    "                            else:\n",
    "                                print(f\"⚠ No records found for {month}.\")\n",
    "                        else:\n",
    "                            print(f\"⚠ Missing 'records' key in JSON response for {month}. Skipping...\")\n",
    "\n",
    "                    else:\n",
    "                        print(f\"⚠ Missing second-level 'result' key in JSON response for {month}. Skipping...\")\n",
    "\n",
    "                else:\n",
    "                    print(f\"⚠ Invalid JSON structure for {month}. Skipping...\")\n",
    "\n",
    "            except json.JSONDecodeError:\n",
    "                print(f\"❌ Failed to decode JSON response for {month}. Skipping...\")\n",
    "\n",
    "        else:\n",
    "            print(f\"❌ API Error {tmp_response.status_code} for {month}: {tmp_response.text}\")\n",
    "\n",
    "    except requests.exceptions.RequestException as e:\n",
    "        print(f\"❌ Request failed for {month}: {e}\")\n",
    "\n",
    "    # Optional delay to prevent rate-limiting\n",
    "    time.sleep(1)\n",
    "\n",
    "# Convert data to DataFrame and save\n",
    "if all_data:\n",
    "    filtered_data = pd.DataFrame(all_data)\n",
    "    filtered_data.to_csv(\"download/epd_filtered_data.csv\", index=False)\n",
    "    print(\"✅ Data retrieval complete. Saved as epd_filtered_data.csv\")\n",
    "else:\n",
    "    print(\"❌ No data retrieved.\")\n"
   ]
  },
  {
   "cell_type": "code",
   "execution_count": 31,
   "metadata": {
    "colab": {
     "base_uri": "https://localhost:8080/"
    },
    "executionInfo": {
     "elapsed": 12039,
     "status": "ok",
     "timestamp": 1738622820972,
     "user": {
      "displayName": "Meena Damwani",
      "userId": "05389956497684419945"
     },
     "user_tz": 0
    },
    "id": "UQ-DT89LTpK5",
    "outputId": "38aeee5b-d5e1-4929-9165-b785a5f08282"
   },
   "outputs": [
    {
     "name": "stdout",
     "output_type": "stream",
     "text": [
      "      POSTCODE   Latitude  Longitude\n",
      "0       E1 0LS  51.513595  -0.050552\n",
      "1       E1 1BU  51.520017  -0.057658\n",
      "2       E1 1BU  51.520017  -0.057658\n",
      "3       E1 2LP  51.514128  -0.062508\n",
      "4       E1 2LP  51.514128  -0.062508\n",
      "...        ...        ...        ...\n",
      "67767   E3 5ED  51.532455  -0.031163\n",
      "67768   E3 5TW  51.529785  -0.038875\n",
      "67769  E14 0XA  51.512639  -0.005312\n",
      "67770  E14 6PG  51.514211  -0.014336\n",
      "67771  E14 8JH  51.500806  -0.025725\n",
      "\n",
      "[67772 rows x 3 columns]\n"
     ]
    }
   ],
   "source": [
    "# Function to get latitude and longitude from postcode\n",
    "def get_lat_lon(postcode):\n",
    "    url = f\"https://api.postcodes.io/postcodes/{postcode}\"\n",
    "    response = requests.get(url)\n",
    "\n",
    "    if response.status_code == 200:\n",
    "        data = response.json()\n",
    "        return data['result']['latitude'], data['result']['longitude']\n",
    "    else:\n",
    "        return None, None  # Return None if API call fails\n",
    "\n",
    "\n",
    "# Get unique postcodes\n",
    "unique_postcodes = filtered_data['POSTCODE'].unique()\n",
    "\n",
    "# Create a dictionary to store lat/lon for unique postcodes\n",
    "postcode_lat_lon = {postcode: get_lat_lon(postcode) for postcode in unique_postcodes}\n",
    "\n",
    "# Map the lat/lon values back to the DataFrame\n",
    "filtered_data[['Latitude', 'Longitude']] = filtered_data['POSTCODE'].map(postcode_lat_lon).apply(pd.Series)\n",
    "\n",
    "print(filtered_data[['POSTCODE','Latitude','Longitude']])\n",
    "filtered_data.to_csv('download/EPD_Final.csv', index=False)"
   ]
  }
 ],
 "metadata": {
  "colab": {
   "authorship_tag": "ABX9TyOnJQCnINqTDU0ZVfT1oPkF",
   "provenance": []
  },
  "kernelspec": {
   "display_name": "Python 3",
   "name": "python3"
  },
  "language_info": {
   "codemirror_mode": {
    "name": "ipython",
    "version": 3
   },
   "file_extension": ".py",
   "mimetype": "text/x-python",
   "name": "python",
   "nbconvert_exporter": "python",
   "pygments_lexer": "ipython3",
   "version": "3.13.2"
  }
 },
 "nbformat": 4,
 "nbformat_minor": 0
}
